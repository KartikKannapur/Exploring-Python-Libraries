{
 "metadata": {
  "name": "",
  "signature": "sha256:21a46f8a091f4a468795b36c28a8351d4a1d035c463930b15d6f33d0e41faa47"
 },
 "nbformat": 3,
 "nbformat_minor": 0,
 "worksheets": [
  {
   "cells": [
    {
     "cell_type": "heading",
     "level": 1,
     "metadata": {},
     "source": [
      "scikit-learn : Machine Learning Library in Python"
     ]
    },
    {
     "cell_type": "markdown",
     "metadata": {},
     "source": [
      "  "
     ]
    },
    {
     "cell_type": "markdown",
     "metadata": {},
     "source": [
      " "
     ]
    },
    {
     "cell_type": "markdown",
     "metadata": {},
     "source": [
      "Dependencies : SciPy, NumPy and matplotlib."
     ]
    },
    {
     "cell_type": "code",
     "collapsed": false,
     "input": [
      "import scipy as sp\n",
      "import numpy as np\n",
      "import matplotlib as mat\n",
      "\n",
      "import sklearn as sk"
     ],
     "language": "python",
     "metadata": {},
     "outputs": [],
     "prompt_number": 1
    },
    {
     "cell_type": "code",
     "collapsed": false,
     "input": [
      "print \"SciPy Version: \" + sp.__version__\n",
      "\n",
      "print \"NumPy Version: \" + np.__version__\n",
      "\n",
      "print \"matplotlib Version: \" + mat.__version__\n",
      "\n",
      "print \"scikit-learn Version: \" + sk.__version__"
     ],
     "language": "python",
     "metadata": {},
     "outputs": [
      {
       "output_type": "stream",
       "stream": "stdout",
       "text": [
        "SciPy Version: 0.14.0\n",
        "NumPy Version: 1.9.1\n",
        "matplotlib Version: 1.3.1\n",
        "scikit-learn Version: 0.15.2\n"
       ]
      }
     ],
     "prompt_number": 2
    },
    {
     "cell_type": "markdown",
     "metadata": {},
     "source": [
      " "
     ]
    },
    {
     "cell_type": "markdown",
     "metadata": {},
     "source": [
      "__Machine Learning__ is about building a tunable model around a problem statement, with a sample/training dataset and then extending that model to a much larger dataset. ML can be thought as a sub domain of Artificial Intelligence(AI), in the sense that, we use algorithms to make machines/computers think, make smarter choices and learn from previous trials."
     ]
    },
    {
     "cell_type": "markdown",
     "metadata": {},
     "source": [
      "One of the fundamental concepts of ML is __SVM(Support Vector Machines)__ - A 2-dimensional SVM divides the dataset into two categories - positive and negative. By categorizing a sample dataset into 2-dimensions, the computer learns from it, so that any new data can be easily segregated into one of these categories. Although this seems very trivial in 2-dimensions, throwing this data into N-dimensions significantly increases the complexity of such as task. Other concepts also involve - finding the decision boundary, kernel methods etc."
     ]
    },
    {
     "cell_type": "markdown",
     "metadata": {},
     "source": [
      "The other key concept in ML revolves around __Regression__ i.e in linear regression, finding the best-fit line for a dataset. The model has learnt from a training dataset, such that for each new value of x, we can predict the corresponding value of y."
     ]
    },
    {
     "cell_type": "markdown",
     "metadata": {},
     "source": [
      " "
     ]
    },
    {
     "cell_type": "markdown",
     "metadata": {},
     "source": [
      " "
     ]
    },
    {
     "cell_type": "heading",
     "level": 3,
     "metadata": {},
     "source": [
      "NumPy, SciPy and matplotlib"
     ]
    },
    {
     "cell_type": "code",
     "collapsed": false,
     "input": [
      "#Printing a random number between 1 & 10\n",
      "np.random.randint(1,10)\n"
     ],
     "language": "python",
     "metadata": {},
     "outputs": [
      {
       "metadata": {},
       "output_type": "pyout",
       "prompt_number": 3,
       "text": [
        "2"
       ]
      }
     ],
     "prompt_number": 3
    },
    {
     "cell_type": "code",
     "collapsed": false,
     "input": [
      "#Printing an array of random numbers between 0 and 1\n",
      "#Dimensions of the array - 3 x 5\n",
      "np.random.random((3,5))"
     ],
     "language": "python",
     "metadata": {},
     "outputs": [
      {
       "metadata": {},
       "output_type": "pyout",
       "prompt_number": 4,
       "text": [
        "array([[ 0.00600141,  0.91964182,  0.75217436,  0.90121341,  0.92584837],\n",
        "       [ 0.87839716,  0.04621779,  0.17720809,  0.77051604,  0.02092484],\n",
        "       [ 0.22579566,  0.648704  ,  0.91275584,  0.2907642 ,  0.95439863]])"
       ]
      }
     ],
     "prompt_number": 4
    },
    {
     "cell_type": "code",
     "collapsed": false,
     "input": [
      "#Assign the random array to a variable\n",
      "my_array = np.random.random((3,5))\n",
      "print my_array"
     ],
     "language": "python",
     "metadata": {},
     "outputs": [
      {
       "output_type": "stream",
       "stream": "stdout",
       "text": [
        "[[ 0.07679859  0.99331841  0.85519473  0.26291431  0.55676207]\n",
        " [ 0.07613111  0.58382337  0.02649007  0.2376679   0.55450067]\n",
        " [ 0.29087288  0.88480167  0.51004022  0.60974187  0.29214287]]\n"
       ]
      }
     ],
     "prompt_number": 5
    },
    {
     "cell_type": "code",
     "collapsed": false,
     "input": [
      "my_array[0]"
     ],
     "language": "python",
     "metadata": {},
     "outputs": [
      {
       "metadata": {},
       "output_type": "pyout",
       "prompt_number": 6,
       "text": [
        "array([ 0.07679859,  0.99331841,  0.85519473,  0.26291431,  0.55676207])"
       ]
      }
     ],
     "prompt_number": 6
    },
    {
     "cell_type": "code",
     "collapsed": false,
     "input": [
      "my_array[0][0]"
     ],
     "language": "python",
     "metadata": {},
     "outputs": [
      {
       "metadata": {},
       "output_type": "pyout",
       "prompt_number": 7,
       "text": [
        "0.076798591256008741"
       ]
      }
     ],
     "prompt_number": 7
    },
    {
     "cell_type": "code",
     "collapsed": false,
     "input": [
      "#Transposing an array\n",
      "my_array.T"
     ],
     "language": "python",
     "metadata": {},
     "outputs": [
      {
       "metadata": {},
       "output_type": "pyout",
       "prompt_number": 8,
       "text": [
        "array([[ 0.07679859,  0.07613111,  0.29087288],\n",
        "       [ 0.99331841,  0.58382337,  0.88480167],\n",
        "       [ 0.85519473,  0.02649007,  0.51004022],\n",
        "       [ 0.26291431,  0.2376679 ,  0.60974187],\n",
        "       [ 0.55676207,  0.55450067,  0.29214287]])"
       ]
      }
     ],
     "prompt_number": 8
    },
    {
     "cell_type": "markdown",
     "metadata": {},
     "source": [
      " "
     ]
    },
    {
     "cell_type": "code",
     "collapsed": false,
     "input": [
      "#Plotting matplotlib graphs inline\n",
      "%matplotlib inline"
     ],
     "language": "python",
     "metadata": {},
     "outputs": [],
     "prompt_number": 9
    },
    {
     "cell_type": "code",
     "collapsed": false,
     "input": [
      "#Plotting random numbers - x & y\n",
      "x = np.random.normal(size=500)\n",
      "y = np.random.normal(size=500)\n",
      "mat.pyplot.scatter(x, y);"
     ],
     "language": "python",
     "metadata": {},
     "outputs": [
      {
       "metadata": {},
       "output_type": "display_data",
       "png": "[encoded data removed]",
       "text": [
        "<matplotlib.figure.Figure at 0x10655cfd0>"
       ]
      }
     ],
     "prompt_number": 10
    },
    {
     "cell_type": "markdown",
     "metadata": {},
     "source": [
      " "
     ]
    },
    {
     "cell_type": "markdown",
     "metadata": {},
     "source": [
      " "
     ]
    },
    {
     "cell_type": "markdown",
     "metadata": {},
     "source": [
      " "
     ]
    },
    {
     "cell_type": "heading",
     "level": 1,
     "metadata": {},
     "source": [
      "Data Representation for Machine Learning"
     ]
    },
    {
     "cell_type": "markdown",
     "metadata": {},
     "source": [
      "Data in scikit-learn is represented in the form of a 2-dimensional array. The size of the array is of the form __[n_samples, n_features].__"
     ]
    },
    {
     "cell_type": "markdown",
     "metadata": {},
     "source": [
      "n_samples = Number of samples in the dataset"
     ]
    },
    {
     "cell_type": "markdown",
     "metadata": {},
     "source": [
      "n_features = Number of features or feature vectors of that dataset.\n"
     ]
    },
    {
     "cell_type": "markdown",
     "metadata": {},
     "source": [
      "The number of features have to be pre-defined. This is typically a small number becuase we want to extract a focussed set of features. If this value is very large, then the number of zeros in that dataset would be significantly higher. To make effective computations, a sparse matrix can be put into use."
     ]
    },
    {
     "cell_type": "markdown",
     "metadata": {},
     "source": [
      " "
     ]
    },
    {
     "cell_type": "code",
     "collapsed": false,
     "input": [
      "#Importing built-in modules in scikit-learn\n",
      "from sklearn import datasets"
     ],
     "language": "python",
     "metadata": {},
     "outputs": [],
     "prompt_number": 14
    },
    {
     "cell_type": "code",
     "collapsed": false,
     "input": [
      "#To get the entire list of built-in datasets - type 'datasets' & hit 'tab'\n",
      "datasets.load_digits"
     ],
     "language": "python",
     "metadata": {},
     "outputs": [
      {
       "metadata": {},
       "output_type": "pyout",
       "prompt_number": 15,
       "text": [
        "<function sklearn.datasets.base.load_digits>"
       ]
      }
     ],
     "prompt_number": 15
    },
    {
     "cell_type": "code",
     "collapsed": false,
     "input": [
      "digits = datasets.load_digits()\n",
      "print digits"
     ],
     "language": "python",
     "metadata": {},
     "outputs": [
      {
       "output_type": "stream",
       "stream": "stdout",
       "text": [
        "{'images': array([[[  0.,   0.,   5., ...,   1.,   0.,   0.],\n",
        "        [  0.,   0.,  13., ...,  15.,   5.,   0.],\n",
        "        [  0.,   3.,  15., ...,  11.,   8.,   0.],\n",
        "        ..., \n",
        "        [  0.,   4.,  11., ...,  12.,   7.,   0.],\n",
        "        [  0.,   2.,  14., ...,  12.,   0.,   0.],\n",
        "        [  0.,   0.,   6., ...,   0.,   0.,   0.]],\n",
        "\n",
        "       [[  0.,   0.,   0., ...,   5.,   0.,   0.],\n",
        "        [  0.,   0.,   0., ...,   9.,   0.,   0.],\n",
        "        [  0.,   0.,   3., ...,   6.,   0.,   0.],\n",
        "        ..., \n",
        "        [  0.,   0.,   1., ...,   6.,   0.,   0.],\n",
        "        [  0.,   0.,   1., ...,   6.,   0.,   0.],\n",
        "        [  0.,   0.,   0., ...,  10.,   0.,   0.]],\n",
        "\n",
        "       [[  0.,   0.,   0., ...,  12.,   0.,   0.],\n",
        "        [  0.,   0.,   3., ...,  14.,   0.,   0.],\n",
        "        [  0.,   0.,   8., ...,  16.,   0.,   0.],\n",
        "        ..., \n",
        "        [  0.,   9.,  16., ...,   0.,   0.,   0.],\n",
        "        [  0.,   3.,  13., ...,  11.,   5.,   0.],\n",
        "        [  0.,   0.,   0., ...,  16.,   9.,   0.]],\n",
        "\n",
        "       ..., \n",
        "       [[  0.,   0.,   1., ...,   1.,   0.,   0.],\n",
        "        [  0.,   0.,  13., ...,   2.,   1.,   0.],\n",
        "        [  0.,   0.,  16., ...,  16.,   5.,   0.],\n",
        "        ..., \n",
        "        [  0.,   0.,  16., ...,  15.,   0.,   0.],\n",
        "        [  0.,   0.,  15., ...,  16.,   0.,   0.],\n",
        "        [  0.,   0.,   2., ...,   6.,   0.,   0.]],\n",
        "\n",
        "       [[  0.,   0.,   2., ...,   0.,   0.,   0.],\n",
        "        [  0.,   0.,  14., ...,  15.,   1.,   0.],\n",
        "        [  0.,   4.,  16., ...,  16.,   7.,   0.],\n",
        "        ..., \n",
        "        [  0.,   0.,   0., ...,  16.,   2.,   0.],\n",
        "        [  0.,   0.,   4., ...,  16.,   2.,   0.],\n",
        "        [  0.,   0.,   5., ...,  12.,   0.,   0.]],\n",
        "\n",
        "       [[  0.,   0.,  10., ...,   1.,   0.,   0.],\n",
        "        [  0.,   2.,  16., ...,   1.,   0.,   0.],\n",
        "        [  0.,   0.,  15., ...,  15.,   0.,   0.],\n",
        "        ..., \n",
        "        [  0.,   4.,  16., ...,  16.,   6.,   0.],\n",
        "        [  0.,   8.,  16., ...,  16.,   8.,   0.],\n",
        "        [  0.,   1.,   8., ...,  12.,   1.,   0.]]]), 'data': array([[  0.,   0.,   5., ...,   0.,   0.,   0.],\n",
        "       [  0.,   0.,   0., ...,  10.,   0.,   0.],\n",
        "       [  0.,   0.,   0., ...,  16.,   9.,   0.],\n",
        "       ..., \n",
        "       [  0.,   0.,   1., ...,   6.,   0.,   0.],\n",
        "       [  0.,   0.,   2., ...,  12.,   0.,   0.],\n",
        "       [  0.,   0.,  10., ...,  12.,   1.,   0.]]), 'target_names': array([0, 1, 2, 3, 4, 5, 6, 7, 8, 9]), 'DESCR': \" Optical Recognition of Handwritten Digits Data Set\\n\\nNotes\\n-----\\nData Set Characteristics:\\n    :Number of Instances: 5620\\n    :Number of Attributes: 64\\n    :Attribute Information: 8x8 image of integer pixels in the range 0..16.\\n    :Missing Attribute Values: None\\n    :Creator: E. Alpaydin (alpaydin '@' boun.edu.tr)\\n    :Date: July; 1998\\n\\nThis is a copy of the test set of the UCI ML hand-written digits datasets\\nhttp://archive.ics.uci.edu/ml/datasets/Optical+Recognition+of+Handwritten+Digits\\n\\nThe data set contains images of hand-written digits: 10 classes where\\neach class refers to a digit.\\n\\nPreprocessing programs made available by NIST were used to extract\\nnormalized bitmaps of handwritten digits from a preprinted form. From a\\ntotal of 43 people, 30 contributed to the training set and different 13\\nto the test set. 32x32 bitmaps are divided into nonoverlapping blocks of\\n4x4 and the number of on pixels are counted in each block. This generates\\nan input matrix of 8x8 where each element is an integer in the range\\n0..16. This reduces dimensionality and gives invariance to small\\ndistortions.\\n\\nFor info on NIST preprocessing routines, see M. D. Garris, J. L. Blue, G.\\nT. Candela, D. L. Dimmick, J. Geist, P. J. Grother, S. A. Janet, and C.\\nL. Wilson, NIST Form-Based Handprint Recognition System, NISTIR 5469,\\n1994.\\n\\nReferences\\n----------\\n  - C. Kaynak (1995) Methods of Combining Multiple Classifiers and Their\\n    Applications to Handwritten Digit Recognition, MSc Thesis, Institute of\\n    Graduate Studies in Science and Engineering, Bogazici University.\\n  - E. Alpaydin, C. Kaynak (1998) Cascading Classifiers, Kybernetika.\\n  - Ken Tang and Ponnuthurai N. Suganthan and Xi Yao and A. Kai Qin.\\n    Linear dimensionalityreduction using relevance weighted LDA. School of\\n    Electrical and Electronic Engineering Nanyang Technological University.\\n    2005.\\n  - Claudio Gentile. A New Approximate Maximal Margin Classification\\n    Algorithm. NIPS. 2000.\\n\", 'target': array([0, 1, 2, ..., 8, 9, 8])}\n"
       ]
      }
     ],
     "prompt_number": 25
    },
    {
     "cell_type": "code",
     "collapsed": false,
     "input": [
      "digits_array = digits.images\n",
      "print digits_array"
     ],
     "language": "python",
     "metadata": {},
     "outputs": [
      {
       "output_type": "stream",
       "stream": "stdout",
       "text": [
        "[[[  0.   0.   5. ...,   1.   0.   0.]\n",
        "  [  0.   0.  13. ...,  15.   5.   0.]\n",
        "  [  0.   3.  15. ...,  11.   8.   0.]\n",
        "  ..., \n",
        "  [  0.   4.  11. ...,  12.   7.   0.]\n",
        "  [  0.   2.  14. ...,  12.   0.   0.]\n",
        "  [  0.   0.   6. ...,   0.   0.   0.]]\n",
        "\n",
        " [[  0.   0.   0. ...,   5.   0.   0.]\n",
        "  [  0.   0.   0. ...,   9.   0.   0.]\n",
        "  [  0.   0.   3. ...,   6.   0.   0.]\n",
        "  ..., \n",
        "  [  0.   0.   1. ...,   6.   0.   0.]\n",
        "  [  0.   0.   1. ...,   6.   0.   0.]\n",
        "  [  0.   0.   0. ...,  10.   0.   0.]]\n",
        "\n",
        " [[  0.   0.   0. ...,  12.   0.   0.]\n",
        "  [  0.   0.   3. ...,  14.   0.   0.]\n",
        "  [  0.   0.   8. ...,  16.   0.   0.]\n",
        "  ..., \n",
        "  [  0.   9.  16. ...,   0.   0.   0.]\n",
        "  [  0.   3.  13. ...,  11.   5.   0.]\n",
        "  [  0.   0.   0. ...,  16.   9.   0.]]\n",
        "\n",
        " ..., \n",
        " [[  0.   0.   1. ...,   1.   0.   0.]\n",
        "  [  0.   0.  13. ...,   2.   1.   0.]\n",
        "  [  0.   0.  16. ...,  16.   5.   0.]\n",
        "  ..., \n",
        "  [  0.   0.  16. ...,  15.   0.   0.]\n",
        "  [  0.   0.  15. ...,  16.   0.   0.]\n",
        "  [  0.   0.   2. ...,   6.   0.   0.]]\n",
        "\n",
        " [[  0.   0.   2. ...,   0.   0.   0.]\n",
        "  [  0.   0.  14. ...,  15.   1.   0.]\n",
        "  [  0.   4.  16. ...,  16.   7.   0.]\n",
        "  ..., \n",
        "  [  0.   0.   0. ...,  16.   2.   0.]\n",
        "  [  0.   0.   4. ...,  16.   2.   0.]\n",
        "  [  0.   0.   5. ...,  12.   0.   0.]]\n",
        "\n",
        " [[  0.   0.  10. ...,   1.   0.   0.]\n",
        "  [  0.   2.  16. ...,   1.   0.   0.]\n",
        "  [  0.   0.  15. ...,  15.   0.   0.]\n",
        "  ..., \n",
        "  [  0.   4.  16. ...,  16.   6.   0.]\n",
        "  [  0.   8.  16. ...,  16.   8.   0.]\n",
        "  [  0.   1.   8. ...,  12.   1.   0.]]]\n"
       ]
      }
     ],
     "prompt_number": 33
    },
    {
     "cell_type": "code",
     "collapsed": false,
     "input": [
      "digits_array[0]"
     ],
     "language": "python",
     "metadata": {},
     "outputs": [
      {
       "metadata": {},
       "output_type": "pyout",
       "prompt_number": 34,
       "text": [
        "array([[  0.,   0.,   5.,  13.,   9.,   1.,   0.,   0.],\n",
        "       [  0.,   0.,  13.,  15.,  10.,  15.,   5.,   0.],\n",
        "       [  0.,   3.,  15.,   2.,   0.,  11.,   8.,   0.],\n",
        "       [  0.,   4.,  12.,   0.,   0.,   8.,   8.,   0.],\n",
        "       [  0.,   5.,   8.,   0.,   0.,   9.,   8.,   0.],\n",
        "       [  0.,   4.,  11.,   0.,   1.,  12.,   7.,   0.],\n",
        "       [  0.,   2.,  14.,   5.,  10.,  12.,   0.,   0.],\n",
        "       [  0.,   0.,   6.,  13.,  10.,   0.,   0.,   0.]])"
       ]
      }
     ],
     "prompt_number": 34
    },
    {
     "cell_type": "code",
     "collapsed": false,
     "input": [
      "digits_array[1]"
     ],
     "language": "python",
     "metadata": {},
     "outputs": [
      {
       "metadata": {},
       "output_type": "pyout",
       "prompt_number": 35,
       "text": [
        "array([[  0.,   0.,   0.,  12.,  13.,   5.,   0.,   0.],\n",
        "       [  0.,   0.,   0.,  11.,  16.,   9.,   0.,   0.],\n",
        "       [  0.,   0.,   3.,  15.,  16.,   6.,   0.,   0.],\n",
        "       [  0.,   7.,  15.,  16.,  16.,   2.,   0.,   0.],\n",
        "       [  0.,   0.,   1.,  16.,  16.,   3.,   0.,   0.],\n",
        "       [  0.,   0.,   1.,  16.,  16.,   6.,   0.,   0.],\n",
        "       [  0.,   0.,   1.,  16.,  16.,   6.,   0.,   0.],\n",
        "       [  0.,   0.,   0.,  11.,  16.,  10.,   0.,   0.]])"
       ]
      }
     ],
     "prompt_number": 35
    },
    {
     "cell_type": "code",
     "collapsed": false,
     "input": [
      "len(digits_array)"
     ],
     "language": "python",
     "metadata": {},
     "outputs": [
      {
       "metadata": {},
       "output_type": "pyout",
       "prompt_number": 37,
       "text": [
        "1797"
       ]
      }
     ],
     "prompt_number": 37
    },
    {
     "cell_type": "code",
     "collapsed": false,
     "input": [
      "#This represents a 1797 x 64 array\n",
      "n_samples, n_features = digits.data.shape\n",
      "print \"Samples: \" + str(n_samples)\n",
      "print \"Features: \"+ str(n_features)"
     ],
     "language": "python",
     "metadata": {},
     "outputs": [
      {
       "output_type": "stream",
       "stream": "stdout",
       "text": [
        "Samples: 1797\n",
        "Features: 64\n"
       ]
      }
     ],
     "prompt_number": 40
    },
    {
     "cell_type": "code",
     "collapsed": false,
     "input": [],
     "language": "python",
     "metadata": {},
     "outputs": [],
     "prompt_number": 46
    },
    {
     "cell_type": "code",
     "collapsed": false,
     "input": [],
     "language": "python",
     "metadata": {},
     "outputs": []
    },
    {
     "cell_type": "code",
     "collapsed": false,
     "input": [],
     "language": "python",
     "metadata": {},
     "outputs": []
    }
   ],
   "metadata": {}
  }
 ]
}