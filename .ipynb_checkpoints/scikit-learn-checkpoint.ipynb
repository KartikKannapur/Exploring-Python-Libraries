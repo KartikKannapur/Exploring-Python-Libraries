{
 "metadata": {
  "name": "",
  "signature": "sha256:96be54d267026a842d46992b6e4a2b77fab530cfe6f7710ec84eb15d8b4fb113"
 },
 "nbformat": 3,
 "nbformat_minor": 0,
 "worksheets": [
  {
   "cells": [
    {
     "cell_type": "heading",
     "level": 1,
     "metadata": {},
     "source": [
      "scikit-learn : Machine Learning Library in Python"
     ]
    },
    {
     "cell_type": "markdown",
     "metadata": {},
     "source": [
      "  "
     ]
    },
    {
     "cell_type": "markdown",
     "metadata": {},
     "source": [
      " "
     ]
    },
    {
     "cell_type": "markdown",
     "metadata": {},
     "source": [
      "Dependencies : SciPy, NumPy and matplotlib."
     ]
    },
    {
     "cell_type": "code",
     "collapsed": false,
     "input": [
      "import scipy as sp\n",
      "import numpy as np\n",
      "import matplotlib as mat\n",
      "\n",
      "import sklearn as sk"
     ],
     "language": "python",
     "metadata": {},
     "outputs": [],
     "prompt_number": 54
    },
    {
     "cell_type": "code",
     "collapsed": false,
     "input": [
      "print \"SciPy Version: \" + sp.__version__\n",
      "\n",
      "print \"NumPy Version: \" + np.__version__\n",
      "\n",
      "print \"matplotlib Version: \" + mat.__version__\n",
      "\n",
      "print \"scikit-learn Version: \" + sk.__version__"
     ],
     "language": "python",
     "metadata": {},
     "outputs": [
      {
       "output_type": "stream",
       "stream": "stdout",
       "text": [
        "SciPy Version: 0.14.0\n",
        "NumPy Version: 1.9.1\n",
        "matplotlib Version: 1.3.1\n",
        "scikit-learn Version: 0.15.2\n"
       ]
      }
     ],
     "prompt_number": 55
    },
    {
     "cell_type": "markdown",
     "metadata": {},
     "source": [
      " "
     ]
    },
    {
     "cell_type": "markdown",
     "metadata": {},
     "source": [
      "__Machine Learning__ is about building a tunable model around a problem statement, with a sample/training dataset and then extending that model to a much larger dataset. ML can be thought as a sub domain of Artificial Intelligence(AI), in the sense that, we use algorithms to make machines/computers think, make smarter choices and learn from previous trials."
     ]
    },
    {
     "cell_type": "markdown",
     "metadata": {},
     "source": [
      "One of the fundamental concepts of ML is __SVM(Support Vector Machines)__ - A 2-dimensional SVM divides the dataset into two categories - positive and negative. By categorizing a sample dataset into 2-dimensions, the computer learns from it, so that any new data can be easily segregated into one of these categories. Although this seems very trivial in 2-dimensions, throwing this data into N-dimensions significantly increases the complexity of such as task. Other concepts also involve - finding the decision boundary, kernel methods etc."
     ]
    },
    {
     "cell_type": "markdown",
     "metadata": {},
     "source": [
      "The other key concept in ML revolves around __Regression__ i.e in linear regression, finding the best-fit line for a dataset. The model has learnt from a training dataset, such that for each new value of x, we can predict the corresponding value of y."
     ]
    },
    {
     "cell_type": "markdown",
     "metadata": {},
     "source": [
      " "
     ]
    },
    {
     "cell_type": "markdown",
     "metadata": {},
     "source": [
      " "
     ]
    },
    {
     "cell_type": "heading",
     "level": 3,
     "metadata": {},
     "source": [
      "NumPy, SciPy and matplotlib"
     ]
    },
    {
     "cell_type": "code",
     "collapsed": false,
     "input": [
      "#Printing a random number between 1 & 10\n",
      "np.random.randint(1,10)\n"
     ],
     "language": "python",
     "metadata": {},
     "outputs": [
      {
       "metadata": {},
       "output_type": "pyout",
       "prompt_number": 56,
       "text": [
        "1"
       ]
      }
     ],
     "prompt_number": 56
    },
    {
     "cell_type": "code",
     "collapsed": false,
     "input": [
      "#Printing an array of random numbers between 0 and 1\n",
      "#Dimensions of the array - 3 x 5\n",
      "np.random.random((3,5))"
     ],
     "language": "python",
     "metadata": {},
     "outputs": [
      {
       "metadata": {},
       "output_type": "pyout",
       "prompt_number": 57,
       "text": [
        "array([[ 0.25141375,  0.57834019,  0.35476482,  0.71991463,  0.5499886 ],\n",
        "       [ 0.29032513,  0.4305621 ,  0.42359627,  0.97723939,  0.23946197],\n",
        "       [ 0.16100474,  0.48911215,  0.35844929,  0.43191811,  0.38449719]])"
       ]
      }
     ],
     "prompt_number": 57
    },
    {
     "cell_type": "code",
     "collapsed": false,
     "input": [
      "#Assign the random array to a variable\n",
      "my_array = np.random.random((3,5))\n",
      "print my_array"
     ],
     "language": "python",
     "metadata": {},
     "outputs": [
      {
       "output_type": "stream",
       "stream": "stdout",
       "text": [
        "[[ 0.1483893   0.02568448  0.99805277  0.01260339  0.80120971]\n",
        " [ 0.9505395   0.66875961  0.79145949  0.43671411  0.1535717 ]\n",
        " [ 0.33518485  0.31704997  0.6467255   0.34440637  0.4603969 ]]\n"
       ]
      }
     ],
     "prompt_number": 58
    },
    {
     "cell_type": "code",
     "collapsed": false,
     "input": [
      "my_array[0]"
     ],
     "language": "python",
     "metadata": {},
     "outputs": [
      {
       "metadata": {},
       "output_type": "pyout",
       "prompt_number": 59,
       "text": [
        "array([ 0.1483893 ,  0.02568448,  0.99805277,  0.01260339,  0.80120971])"
       ]
      }
     ],
     "prompt_number": 59
    },
    {
     "cell_type": "code",
     "collapsed": false,
     "input": [
      "my_array[0][0]"
     ],
     "language": "python",
     "metadata": {},
     "outputs": [
      {
       "metadata": {},
       "output_type": "pyout",
       "prompt_number": 60,
       "text": [
        "0.1483893046265149"
       ]
      }
     ],
     "prompt_number": 60
    },
    {
     "cell_type": "code",
     "collapsed": false,
     "input": [
      "#Transposing an array\n",
      "my_array.T"
     ],
     "language": "python",
     "metadata": {},
     "outputs": [
      {
       "metadata": {},
       "output_type": "pyout",
       "prompt_number": 61,
       "text": [
        "array([[ 0.1483893 ,  0.9505395 ,  0.33518485],\n",
        "       [ 0.02568448,  0.66875961,  0.31704997],\n",
        "       [ 0.99805277,  0.79145949,  0.6467255 ],\n",
        "       [ 0.01260339,  0.43671411,  0.34440637],\n",
        "       [ 0.80120971,  0.1535717 ,  0.4603969 ]])"
       ]
      }
     ],
     "prompt_number": 61
    },
    {
     "cell_type": "markdown",
     "metadata": {},
     "source": [
      " "
     ]
    },
    {
     "cell_type": "code",
     "collapsed": false,
     "input": [
      "#Plotting matplotlib graphs inline\n",
      "%matplotlib inline"
     ],
     "language": "python",
     "metadata": {},
     "outputs": [],
     "prompt_number": 62
    },
    {
     "cell_type": "code",
     "collapsed": false,
     "input": [
      "#Plotting random numbers - x & y\n",
      "x = np.random.normal(size=500)\n",
      "y = np.random.normal(size=500)\n",
      "mat.pyplot.scatter(x, y);"
     ],
     "language": "python",
     "metadata": {},
     "outputs": [
      {
       "metadata": {},
       "output_type": "display_data",
       "png": "[encoded data removed]",
       "text": [
        "<matplotlib.figure.Figure at 0x1064fbb90>"
       ]
      }
     ],
     "prompt_number": 63
    },
    {
     "cell_type": "markdown",
     "metadata": {},
     "source": [
      " "
     ]
    },
    {
     "cell_type": "markdown",
     "metadata": {},
     "source": [
      " "
     ]
    },
    {
     "cell_type": "markdown",
     "metadata": {},
     "source": [
      " "
     ]
    },
    {
     "cell_type": "heading",
     "level": 1,
     "metadata": {},
     "source": [
      "Data Representation"
     ]
    },
    {
     "cell_type": "code",
     "collapsed": false,
     "input": [],
     "language": "python",
     "metadata": {},
     "outputs": [],
     "prompt_number": 63
    }
   ],
   "metadata": {}
  }
 ]
}