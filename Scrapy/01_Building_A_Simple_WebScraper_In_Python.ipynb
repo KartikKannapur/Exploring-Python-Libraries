{
 "cells": [
  {
   "cell_type": "markdown",
   "metadata": {},
   "source": [
    "# Scrapy\n"
   ]
  },
  {
   "cell_type": "markdown",
   "metadata": {},
   "source": [
    "### About\n",
    "\n",
    "Scrapy is an application framework for crawling web sites and extracting structured data which can be used for a wide range of useful applications, like data mining, information processing or historical archival."
   ]
  },
  {
   "cell_type": "markdown",
   "metadata": {},
   "source": [
    "##  "
   ]
  },
  {
   "cell_type": "code",
   "execution_count": 35,
   "metadata": {
    "collapsed": false
   },
   "outputs": [],
   "source": [
    "# #Installation\n",
    "# #pip install scrapy"
   ]
  },
  {
   "cell_type": "markdown",
   "metadata": {},
   "source": [
    "##  "
   ]
  },
  {
   "cell_type": "code",
   "execution_count": 36,
   "metadata": {
    "collapsed": true
   },
   "outputs": [],
   "source": [
    "# #Simple Scrapy Project - http://scrapy.readthedocs.org/en/latest/intro/tutorial.html\n",
    "\n",
    "# #Domain to scrape - http://www.dmoz.org/"
   ]
  },
  {
   "cell_type": "code",
   "execution_count": 37,
   "metadata": {
    "collapsed": false
   },
   "outputs": [],
   "source": [
    "# #01 - Creating a new Scrapy Project\n",
    "\n",
    "# #Start a new Scrapy Project - \"my_web_crawler\"\n",
    "# $ scrapy startproject my_web_crawler\n",
    "\n",
    "# #This will create a new folder - \"my_web_crawler\"\n",
    "# #The directory will contain : \n",
    "# #my_web_crawler/\n",
    "\n",
    "# #    scrapy.cfg        #Configuration File\n",
    "# #    my_web_crawler/   #Project Module\n",
    "# #        __init__.py\n",
    "# #        items.py         \n",
    "# #        pipelines.py      \n",
    "# #        settings.py   \n",
    "# #        spiders/      #Directory containing Spiders"
   ]
  },
  {
   "cell_type": "code",
   "execution_count": 38,
   "metadata": {
    "collapsed": false
   },
   "outputs": [],
   "source": [
    "# #02 - Defining our item\n",
    "\n",
    "# #Items are containers that will be loaded with the scraped data. They work like Python Dictionaries.\n",
    "# #Python File - items.py\n",
    "import scrapy\n",
    "\n",
    "class DmozItem(scrapy.Item):\n",
    "    title = scrapy.Field()\n",
    "    link = scrapy.Field()\n",
    "    desc = scrapy.Field()"
   ]
  },
  {
   "cell_type": "code",
   "execution_count": 39,
   "metadata": {
    "collapsed": false
   },
   "outputs": [],
   "source": [
    "# #03 - Our first Spider\n",
    "# #Spiders contain the initial list of URLs to download, which links to follow & how to parse the extracted data.\n",
    "# #Python File under the spiders/ directory - dmoz_spiders.py\n",
    "import scrapy\n",
    "\n",
    "class DmozSpider(scrapy.Spider):\n",
    "    # #Unique Name for each Spider\n",
    "    name = \"dmoz\"\n",
    "    allowed_domains = [\"dmoz.org\"]\n",
    "    # #Spiders start crawling from these URLs & then successively crawl the other \n",
    "    # #extracted URLs.\n",
    "    start_urls = [\n",
    "        \"http://www.dmoz.org/Computers/Programming/Languages/Python/Books/\",\n",
    "        \"http://www.dmoz.org/Computers/Programming/Languages/Python/Resources/\"\n",
    "    ]\n",
    "\n",
    "    # #Parsing the Response data & extracting the scraped data.\n",
    "    def parse(self, response):\n",
    "        filename = response.url.split(\"/\")[-2] + '.html'\n",
    "        with open(filename, 'wb') as f:\n",
    "            f.write(response.body)"
   ]
  },
  {
   "cell_type": "code",
   "execution_count": 40,
   "metadata": {
    "collapsed": true
   },
   "outputs": [],
   "source": [
    "# #04 - Crawling\n",
    "# #From the projects root directory, run\n",
    "\n",
    "# $ scrapy crawl dmoz\n",
    "# #This command runs the Spider with the name dmoz"
   ]
  }
 ],
 "metadata": {
  "kernelspec": {
   "display_name": "Python 2",
   "language": "python",
   "name": "python2"
  },
  "language_info": {
   "codemirror_mode": {
    "name": "ipython",
    "version": 2
   },
   "file_extension": ".py",
   "mimetype": "text/x-python",
   "name": "python",
   "nbconvert_exporter": "python",
   "pygments_lexer": "ipython2",
   "version": "2.7.9"
  }
 },
 "nbformat": 4,
 "nbformat_minor": 0
}
