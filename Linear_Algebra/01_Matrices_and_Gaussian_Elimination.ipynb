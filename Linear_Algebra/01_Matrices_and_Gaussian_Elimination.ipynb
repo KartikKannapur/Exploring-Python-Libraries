{
 "cells": [
  {
   "cell_type": "markdown",
   "metadata": {},
   "source": [
    "# Linear Algebra - Matrices and Gaussian Elimination"
   ]
  },
  {
   "cell_type": "markdown",
   "metadata": {},
   "source": [
    "#  "
   ]
  },
  {
   "cell_type": "code",
   "execution_count": 5,
   "metadata": {
    "collapsed": false
   },
   "outputs": [],
   "source": [
    "# #Python Library Imports\n",
    "import numpy as np\n"
   ]
  },
  {
   "cell_type": "markdown",
   "metadata": {},
   "source": [
    "### Introduction"
   ]
  },
  {
   "cell_type": "raw",
   "metadata": {},
   "source": [
    "Solving a Linear Equation with NumPy\n",
    "\n",
    "A system of equations with 2 equations and 2 unknowns\n",
    "1x + 2y = 3\n",
    "4x + 5y = 6\n",
    "\n",
    "| 1 2 |    | 3 |\n",
    "| 4 5 |    | 6 |\n",
    "\n",
    "\n",
    "There are two ways to solve the problem:\n",
    "1. Elimination\n",
    "2. Determinants"
   ]
  },
  {
   "cell_type": "markdown",
   "metadata": {},
   "source": [
    "##### Elimination"
   ]
  },
  {
   "cell_type": "code",
   "execution_count": 24,
   "metadata": {
    "collapsed": false
   },
   "outputs": [
    {
     "data": {
      "text/plain": [
       "array([-1.,  2.])"
      ]
     },
     "execution_count": 24,
     "metadata": {},
     "output_type": "execute_result"
    }
   ],
   "source": [
    "equn_1 = np.array([[1,2], [4,5]])\n",
    "equn_2 = np.array([3,6])\n",
    "\n",
    "# equn_1 -> Co-efficient Matrix\n",
    "# equn_2 -> Solution Values\n",
    "# output -> Solution to the equation `Ax = b`\n",
    "np.linalg.solve(equn_1, equn_2)"
   ]
  },
  {
   "cell_type": "code",
   "execution_count": 30,
   "metadata": {
    "collapsed": false
   },
   "outputs": [
    {
     "data": {
      "text/plain": [
       "array([ True,  True], dtype=bool)"
      ]
     },
     "execution_count": 30,
     "metadata": {},
     "output_type": "execute_result"
    }
   ],
   "source": [
    "# To verify the solution we can take the Dot Product of A.x = B\n",
    "\n",
    "x_equn_1_2 = np.linalg.solve(equn_1, equn_2)\n",
    "np.dot(equn_1, x_equn_1_2) == equn_2"
   ]
  },
  {
   "cell_type": "markdown",
   "metadata": {},
   "source": [
    "##### Determinants"
   ]
  },
  {
   "cell_type": "code",
   "execution_count": 21,
   "metadata": {
    "collapsed": false
   },
   "outputs": [
    {
     "data": {
      "text/plain": [
       "-2.0000000000000004"
      ]
     },
     "execution_count": 21,
     "metadata": {},
     "output_type": "execute_result"
    }
   ],
   "source": [
    "# #Determinants\n",
    "\n",
    "#The determinant of a 2-D array [[a, b], [c, d]] is ad - bc\n",
    "np.linalg.det([[1,2], [3,4]])"
   ]
  },
  {
   "cell_type": "code",
   "execution_count": 34,
   "metadata": {
    "collapsed": false
   },
   "outputs": [
    {
     "data": {
      "text/plain": [
       "(2L, 2L)"
      ]
     },
     "execution_count": 34,
     "metadata": {},
     "output_type": "execute_result"
    }
   ],
   "source": [
    "equn_1.shape"
   ]
  }
 ],
 "metadata": {
  "kernelspec": {
   "display_name": "Python 2",
   "language": "python",
   "name": "python2"
  },
  "language_info": {
   "codemirror_mode": {
    "name": "ipython",
    "version": 2
   },
   "file_extension": ".py",
   "mimetype": "text/x-python",
   "name": "python",
   "nbconvert_exporter": "python",
   "pygments_lexer": "ipython2",
   "version": "2.7.9"
  }
 },
 "nbformat": 4,
 "nbformat_minor": 0
}
