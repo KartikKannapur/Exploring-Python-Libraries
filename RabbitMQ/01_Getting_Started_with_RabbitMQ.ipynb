{
 "cells": [
  {
   "cell_type": "markdown",
   "metadata": {},
   "source": [
    "## RabbitMQ - Python"
   ]
  },
  {
   "cell_type": "markdown",
   "metadata": {},
   "source": [
    "####  "
   ]
  },
  {
   "cell_type": "markdown",
   "metadata": {
    "collapsed": true
   },
   "source": [
    "### About\n",
    "\n",
    "Messaging is an asynchronous that helps us decouple applications by separating sending and receiving of data. Applications can connect to each other as parts/components of a larger application. RabbitMQ is a Message Broker that accepts & forwards messages.\n",
    "\n",
    "It uses the AMQP - Advanced Messaging Queuing Protocol\n",
    "\n",
    "#### Components of RabbitMQ\n",
    "\n",
    "- Producer - A program that sends messages\n",
    "- Queue - Mailbox inside RabbitMQ.\n",
    "- Consumer - Receives messages.\n",
    "\n",
    "The Queue is not bound by any limits. It can store any number of messages(Infinite Buffer)\n",
    "\n",
    "The Producer, Consumer & the Broker do not have to reside on the same machine.\n",
    "\n",
    "#### RabbitMQ with Python\n",
    "\n",
    "Python Client Library for RabbitMQ - Pika"
   ]
  },
  {
   "cell_type": "markdown",
   "metadata": {},
   "source": [
    "## "
   ]
  },
  {
   "cell_type": "markdown",
   "metadata": {},
   "source": [
    "### RabbitMQ Server Installation\n",
    "\n",
    "* Download & Install the latest version of RabbitMQ Sever depending on your operating system from [here.](http://www.rabbitmq.com/download.html)\n",
    "\n",
    "#### Windows\n",
    "* Dependencies - Download & Install the Erlang Windows Binary file from [here.](http://www.erlang.org/download.html)\n",
    "* After Installing the Erlang Windows Binary, Run the RabbitMQ Server Installation.\n",
    "\n",
    "This will install RabbitMQ with the default configuration. After the installation you will be able to find links to RabbitMQ directories in the Start Menu.\n",
    "\n",
    "#### Launching the Server\n",
    "\n",
    "In the installed directory, you will find the 'RabbitMQ Command Prompt (sbin)', which can be used to start/stop the rabbitmq server.\n",
    "\n",
    "> $ rabbitmqctl start_app"
   ]
  },
  {
   "cell_type": "markdown",
   "metadata": {},
   "source": [
    "<img src=\"https://www.rabbitmq.com/img/tutorials/python-one-overall.png\">"
   ]
  },
  {
   "cell_type": "markdown",
   "metadata": {},
   "source": [
    "####  "
   ]
  },
  {
   "cell_type": "code",
   "execution_count": 1,
   "metadata": {
    "collapsed": false
   },
   "outputs": [],
   "source": [
    "# #Installing Pika\n",
    "# #pip install pika\n",
    "import pika"
   ]
  },
  {
   "cell_type": "markdown",
   "metadata": {},
   "source": [
    "####  "
   ]
  },
  {
   "cell_type": "code",
   "execution_count": 4,
   "metadata": {
    "collapsed": false
   },
   "outputs": [
    {
     "name": "stderr",
     "output_type": "stream",
     "text": [
      "ERROR:pika.adapters.base_connection:Connection to 127.0.0.1:5672 failed: timeout\n",
      "WARNING:pika.connection:Could not connect, 0 attempts left\n"
     ]
    },
    {
     "ename": "ConnectionClosed",
     "evalue": "",
     "output_type": "error",
     "traceback": [
      "\u001b[1;31m---------------------------------------------------------------------------\u001b[0m",
      "\u001b[1;31mConnectionClosed\u001b[0m                          Traceback (most recent call last)",
      "\u001b[1;32m<ipython-input-4-d5e30c69132b>\u001b[0m in \u001b[0;36m<module>\u001b[1;34m()\u001b[0m\n\u001b[0;32m      1\u001b[0m \u001b[1;31m# #Sending Messages to the Queue.\u001b[0m\u001b[1;33m\u001b[0m\u001b[1;33m\u001b[0m\u001b[0m\n\u001b[0;32m      2\u001b[0m \u001b[1;33m\u001b[0m\u001b[0m\n\u001b[1;32m----> 3\u001b[1;33m \u001b[0mconnection\u001b[0m \u001b[1;33m=\u001b[0m \u001b[0mpika\u001b[0m\u001b[1;33m.\u001b[0m\u001b[0mBlockingConnection\u001b[0m\u001b[1;33m(\u001b[0m\u001b[0mpika\u001b[0m\u001b[1;33m.\u001b[0m\u001b[0mConnectionParameters\u001b[0m\u001b[1;33m(\u001b[0m\u001b[1;34m'127.0.0.1'\u001b[0m\u001b[1;33m)\u001b[0m\u001b[1;33m)\u001b[0m\u001b[1;33m\u001b[0m\u001b[0m\n\u001b[0m",
      "\u001b[1;32mC:\\Python27\\lib\\site-packages\\pika\\adapters\\blocking_connection.pyc\u001b[0m in \u001b[0;36m__init__\u001b[1;34m(self, parameters, _impl_class)\u001b[0m\n\u001b[0;32m    337\u001b[0m             stop_ioloop_on_close=False)\n\u001b[0;32m    338\u001b[0m \u001b[1;33m\u001b[0m\u001b[0m\n\u001b[1;32m--> 339\u001b[1;33m         \u001b[0mself\u001b[0m\u001b[1;33m.\u001b[0m\u001b[0m_process_io_for_connection_setup\u001b[0m\u001b[1;33m(\u001b[0m\u001b[1;33m)\u001b[0m\u001b[1;33m\u001b[0m\u001b[0m\n\u001b[0m\u001b[0;32m    340\u001b[0m \u001b[1;33m\u001b[0m\u001b[0m\n\u001b[0;32m    341\u001b[0m     \u001b[1;32mdef\u001b[0m \u001b[0m_cleanup\u001b[0m\u001b[1;33m(\u001b[0m\u001b[0mself\u001b[0m\u001b[1;33m)\u001b[0m\u001b[1;33m:\u001b[0m\u001b[1;33m\u001b[0m\u001b[0m\n",
      "\u001b[1;32mC:\\Python27\\lib\\site-packages\\pika\\adapters\\blocking_connection.pyc\u001b[0m in \u001b[0;36m_process_io_for_connection_setup\u001b[1;34m(self)\u001b[0m\n\u001b[0;32m    372\u001b[0m         \"\"\"\n\u001b[0;32m    373\u001b[0m         self._flush_output(self._opened_result.is_ready,\n\u001b[1;32m--> 374\u001b[1;33m                            self._open_error_result.is_ready)\n\u001b[0m\u001b[0;32m    375\u001b[0m \u001b[1;33m\u001b[0m\u001b[0m\n\u001b[0;32m    376\u001b[0m         \u001b[1;32mif\u001b[0m \u001b[0mself\u001b[0m\u001b[1;33m.\u001b[0m\u001b[0m_open_error_result\u001b[0m\u001b[1;33m.\u001b[0m\u001b[0mready\u001b[0m\u001b[1;33m:\u001b[0m\u001b[1;33m\u001b[0m\u001b[0m\n",
      "\u001b[1;32mC:\\Python27\\lib\\site-packages\\pika\\adapters\\blocking_connection.pyc\u001b[0m in \u001b[0;36m_flush_output\u001b[1;34m(self, *waiters)\u001b[0m\n\u001b[0;32m    393\u001b[0m         \"\"\"\n\u001b[0;32m    394\u001b[0m         \u001b[1;32mif\u001b[0m \u001b[0mself\u001b[0m\u001b[1;33m.\u001b[0m\u001b[0m_impl\u001b[0m\u001b[1;33m.\u001b[0m\u001b[0mis_closed\u001b[0m\u001b[1;33m:\u001b[0m\u001b[1;33m\u001b[0m\u001b[0m\n\u001b[1;32m--> 395\u001b[1;33m             \u001b[1;32mraise\u001b[0m \u001b[0mexceptions\u001b[0m\u001b[1;33m.\u001b[0m\u001b[0mConnectionClosed\u001b[0m\u001b[1;33m(\u001b[0m\u001b[1;33m)\u001b[0m\u001b[1;33m\u001b[0m\u001b[0m\n\u001b[0m\u001b[0;32m    396\u001b[0m \u001b[1;33m\u001b[0m\u001b[0m\n\u001b[0;32m    397\u001b[0m         \u001b[1;31m# Conditions for terminating the processing loop:\u001b[0m\u001b[1;33m\u001b[0m\u001b[1;33m\u001b[0m\u001b[0m\n",
      "\u001b[1;31mConnectionClosed\u001b[0m: "
     ]
    }
   ],
   "source": [
    "# #Sending Messages to the Queue.\n",
    "\n",
    "connection = pika.BlockingConnection(pika.ConnectionParameters('127.0.0.1'))"
   ]
  }
 ],
 "metadata": {
  "kernelspec": {
   "display_name": "Python 2",
   "language": "python",
   "name": "python2"
  },
  "language_info": {
   "codemirror_mode": {
    "name": "ipython",
    "version": 2
   },
   "file_extension": ".py",
   "mimetype": "text/x-python",
   "name": "python",
   "nbconvert_exporter": "python",
   "pygments_lexer": "ipython2",
   "version": "2.7.9"
  }
 },
 "nbformat": 4,
 "nbformat_minor": 0
}
