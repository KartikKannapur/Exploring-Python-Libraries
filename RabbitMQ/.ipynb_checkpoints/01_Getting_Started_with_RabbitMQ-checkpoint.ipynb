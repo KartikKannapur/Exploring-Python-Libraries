{
 "cells": [
  {
   "cell_type": "markdown",
   "metadata": {},
   "source": [
    "## RabbitMQ - Python"
   ]
  },
  {
   "cell_type": "markdown",
   "metadata": {},
   "source": [
    "####  "
   ]
  },
  {
   "cell_type": "markdown",
   "metadata": {
    "collapsed": true
   },
   "source": [
    "### About\n",
    "\n",
    "Messaging is an asynchronous that helps us decouple applications by separating sending and receiving of data. Applications can connect to each other as parts/components of a larger application. RabbitMQ is a Message Broker that accepts & forwards messages.\n",
    "\n",
    "It uses the AMQP - Advanced Messaging Queuing Protocol\n",
    "\n",
    "\n",
    "#### Components of RabbitMQ\n",
    "\n",
    "- Producer - A program that sends messages\n",
    "- Queue - Mailbox inside RabbitMQ.\n",
    "- Consumer - Receives messages.\n",
    "\n",
    "The Queue is not bound by any limits. It can store any number of messages(Infinite Buffer)\n",
    "\n",
    "The Producer, Consumer & the Broker do not have to reside on the same machine.\n",
    "\n",
    "#### RabbitMQ with Python\n",
    "\n",
    "Python Client Library for RabbitMQ - Pika\n",
    "\n",
    "\n",
    "#### Message Brokers\n",
    "\n",
    "Message Brokers are application stacks that handle everything from acceptings messages, queuing them & delevring them to the respective requesting receivers"
   ]
  },
  {
   "cell_type": "markdown",
   "metadata": {},
   "source": [
    "### RabbitMQ Server Installation\n",
    "\n",
    "* Download & Install the latest version of RabbitMQ Sever depending on your operating system from [here.](http://www.rabbitmq.com/download.html)\n",
    "\n",
    "#### Windows\n",
    "* Dependencies - Download & Install the Erlang Windows Binary file from [here.](http://www.erlang.org/download.html)\n",
    "* After Installing the Erlang Windows Binary, Run the RabbitMQ Server Installation.\n",
    "\n",
    "This will install RabbitMQ with the default configuration. After the installation you will be able to find links to RabbitMQ directories in the Start Menu.\n",
    "\n",
    "#### Launching the Server\n",
    "\n",
    "In the installed directory, you will find the 'RabbitMQ Command Prompt (sbin)', which can be used to start/stop the rabbitmq server.\n",
    "\n",
    "> $ rabbitmqctl start_app\n",
    "\n",
    "\n",
    "#### Linux - CentOS\n",
    "\n",
    "Update the libraries in CentOS\n",
    "\n",
    "> $ yum -y udpate\n",
    "\n",
    "\n",
    "Add relevant repositories\n",
    "\n",
    "> $ wget http://dl.fedoraproject.org/pub/epel/6/x86_64/epel-release-6-8.noarch.rpm\n",
    "\n",
    "> $ wget http://rpms.famillecollet.com/enterprise/remi-release-6.rpm\n",
    "\n",
    "> $ sudo rpm -Uvh remi-release-6*.rpm epel-release-6*.rpm\n",
    "\n",
    "Download & Install Erlang\n",
    "\n",
    "> $ yum install -y erlang\n",
    "\n",
    "Download & Install the latest RabbitMQ package using wget:\n",
    "\n",
    "> $ wget http://www.rabbitmq.com/releases/rabbitmq-server/v3.2.2/rabbitmq-server-3.2.2-1.noarch.rpm\n",
    "\n",
    "> $ rpm --import http://www.rabbitmq.com/rabbitmq-signing-key-public.asc\n",
    "\n",
    "> $ yum install rabbitmq-server-3.2.2-1.noarch.rpm\n",
    "\n",
    "\n",
    "#### Enable RabbitMQ Management Server\n",
    "\n",
    "> $ sudo rabbitmq-plugins enable rabbitmq_management\n",
    "\n",
    "RabbitMQ daemon \n",
    "\n",
    "> $ chkconfig rabbitmq-server on\n",
    "\n",
    "\n",
    "#### RabbitMQ Services\n",
    "\n",
    "To start the service:\n",
    "> $ /sbin/service rabbitmq-server start\n",
    "\n",
    "To stop the service:\n",
    "> $ /sbin/service rabbitmq-server stop\n",
    "\n",
    "To restart the service:\n",
    "> $ /sbin/service rabbitmq-server restart\n",
    "\n",
    "To check the status:\n",
    "> $ /sbin/service rabbitmq-server status"
   ]
  },
  {
   "cell_type": "markdown",
   "metadata": {},
   "source": [
    "<img src=\"https://www.rabbitmq.com/img/tutorials/python-one-overall.png\">"
   ]
  },
  {
   "cell_type": "markdown",
   "metadata": {},
   "source": [
    "####  "
   ]
  },
  {
   "cell_type": "code",
   "execution_count": 1,
   "metadata": {
    "collapsed": false
   },
   "outputs": [],
   "source": [
    "# #Installing Pika\n",
    "# #pip install pika\n",
    "import pika"
   ]
  },
  {
   "cell_type": "markdown",
   "metadata": {},
   "source": [
    "####  "
   ]
  },
  {
   "cell_type": "code",
   "execution_count": 12,
   "metadata": {
    "collapsed": false
   },
   "outputs": [
    {
     "name": "stderr",
     "output_type": "stream",
     "text": [
      "WARNING:pika.connection:Disconnected from RabbitMQ at 127.0.0.1:5672 (200): Normal shutdown\n"
     ]
    },
    {
     "name": "stdout",
     "output_type": "stream",
     "text": [
      " [x] Sent 'Hello World!'\n"
     ]
    }
   ],
   "source": [
    "# #Send.py\n",
    "\n",
    "# #Connection to a broker on the localhost\n",
    "connection = pika.BlockingConnection(pika.ConnectionParameters('127.0.0.1'))\n",
    "channel = connection.channel()\n",
    "\n",
    "# #Creating a queue to which the message will be delivered.\n",
    "# #If we send a message to a non-existing queue, RabbitMQ will just trash the message.\n",
    "channel.queue_declare(queue='hello')\n",
    "\n",
    "# #In RabbitMQ a message can never be sent directly to a queue, it has to be sent via an exchange\n",
    "channel.basic_publish(exchange='', routing_key='hello', body='Hello World!')\n",
    "print \" [x] Sent 'Hello World!'\"\n",
    "connection.close()"
   ]
  },
  {
   "cell_type": "code",
   "execution_count": null,
   "metadata": {
    "collapsed": true
   },
   "outputs": [],
   "source": [
    "# #Receive.py\n",
    "print ' [*] Waiting for messages. To exit press CTRL+C'\n",
    "\n",
    "def callback(ch, method, properties, body):\n",
    "    print \" [x] Received %r\" % (body,)\n",
    "\n",
    "channel.basic_consume(callback,\n",
    "                      queue='hello',\n",
    "                      no_ack=True)\n",
    "\n",
    "channel.start_consuming()"
   ]
  }
 ],
 "metadata": {
  "kernelspec": {
   "display_name": "Python 2",
   "language": "python",
   "name": "python2"
  },
  "language_info": {
   "codemirror_mode": {
    "name": "ipython",
    "version": 2
   },
   "file_extension": ".py",
   "mimetype": "text/x-python",
   "name": "python",
   "nbconvert_exporter": "python",
   "pygments_lexer": "ipython2",
   "version": "2.7.10"
  }
 },
 "nbformat": 4,
 "nbformat_minor": 0
}
