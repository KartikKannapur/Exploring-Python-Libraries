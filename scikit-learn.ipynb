{
 "metadata": {
  "name": "",
  "signature": "sha256:c077afaa05c3e5f2642fe7d27d7ef5d47d99b93c9f67893f7db886d2f15f3b5e"
 },
 "nbformat": 3,
 "nbformat_minor": 0,
 "worksheets": [
  {
   "cells": [
    {
     "cell_type": "heading",
     "level": 1,
     "metadata": {},
     "source": [
      "scikit-learn : Machine Learning Library in Python"
     ]
    },
    {
     "cell_type": "markdown",
     "metadata": {},
     "source": [
      "  "
     ]
    },
    {
     "cell_type": "markdown",
     "metadata": {},
     "source": [
      " "
     ]
    },
    {
     "cell_type": "markdown",
     "metadata": {},
     "source": [
      "Dependencies : SciPy, NumPy and matplotlib."
     ]
    },
    {
     "cell_type": "code",
     "collapsed": false,
     "input": [
      "import scipy as sp\n",
      "import numpy as np\n",
      "import matplotlib as mat\n",
      "\n",
      "import sklearn as sk"
     ],
     "language": "python",
     "metadata": {},
     "outputs": [],
     "prompt_number": 7
    },
    {
     "cell_type": "code",
     "collapsed": false,
     "input": [
      "print \"SciPy Version: \" + sp.__version__\n",
      "\n",
      "print \"NumPy Version: \" + np.__version__\n",
      "\n",
      "print \"matplotlib Version: \" + mat.__version__\n",
      "\n",
      "print \"scikit-learn Version: \" + sk.__version__"
     ],
     "language": "python",
     "metadata": {},
     "outputs": [
      {
       "output_type": "stream",
       "stream": "stdout",
       "text": [
        "SciPy Version: 0.14.0\n",
        "NumPy Version: 1.9.1\n",
        "matplotlib Version: 1.3.1\n",
        "scikit-learn Version: 0.15.2\n"
       ]
      }
     ],
     "prompt_number": 8
    },
    {
     "cell_type": "markdown",
     "metadata": {},
     "source": [
      " "
     ]
    },
    {
     "cell_type": "markdown",
     "metadata": {},
     "source": [
      "__Machine Learning__ is about building a tunable model around a problem statement, with a sample/training dataset and then extending that model to a much larger dataset. ML can be thought as a sub domain of Artificial Intelligence(AI), in the sense that, we use algorithms to make machines/computers think, make smarter choices and learn from previous trials."
     ]
    },
    {
     "cell_type": "markdown",
     "metadata": {},
     "source": [
      "One of the fundamental concepts of ML is __SVM(Support Vector Machines)__ - A 2-dimensional SVM divides the dataset into two categories - positive and negative. By categorizing a sample dataset into 2-dimensions, the computer learns from it, so that any new data can be easily segregated into one of these categories. Although this seems very trivial in 2-dimensions, throwing this data into N-dimensions significantly increases the complexity of such as task. Other concepts also involve - finding the decision boundary, kernel methods etc."
     ]
    },
    {
     "cell_type": "code",
     "collapsed": false,
     "input": [],
     "language": "python",
     "metadata": {},
     "outputs": []
    },
    {
     "cell_type": "code",
     "collapsed": false,
     "input": [],
     "language": "python",
     "metadata": {},
     "outputs": []
    }
   ],
   "metadata": {}
  }
 ]
}