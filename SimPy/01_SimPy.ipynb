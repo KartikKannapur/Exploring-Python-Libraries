{
 "cells": [
  {
   "cell_type": "markdown",
   "metadata": {},
   "source": [
    "## SimPy"
   ]
  },
  {
   "cell_type": "markdown",
   "metadata": {},
   "source": [
    "### About\n",
    "\n",
    "* Discrete-Event Simulation in Python\n",
    "* Real-Time Simulation "
   ]
  },
  {
   "cell_type": "markdown",
   "metadata": {},
   "source": [
    "##  "
   ]
  },
  {
   "cell_type": "code",
   "execution_count": 7,
   "metadata": {
    "collapsed": false
   },
   "outputs": [
    {
     "data": {
      "text/plain": [
       "2"
      ]
     },
     "execution_count": 7,
     "metadata": {},
     "output_type": "execute_result"
    }
   ],
   "source": [
    "# #Generators in Python\n",
    "def gen(x):\n",
    "    yield x + 1\n",
    "\n",
    "g = gen(1)\n",
    "next(g)"
   ]
  },
  {
   "cell_type": "code",
   "execution_count": 19,
   "metadata": {
    "collapsed": false
   },
   "outputs": [
    {
     "name": "stdout",
     "output_type": "stream",
     "text": [
      "('fast clock', 0)\n",
      "('slow clock', 0)\n",
      "('fast clock', 0.5)\n",
      "('fast clock', 1.0)\n",
      "('fast clock', 1.5)\n",
      "('slow clock', 2)\n",
      "('fast clock', 2.0)\n",
      "('fast clock', 2.5)\n",
      "('fast clock', 3.0)\n",
      "('fast clock', 3.5)\n",
      "('slow clock', 4)\n",
      "('fast clock', 4.0)\n",
      "('fast clock', 4.5)\n",
      "('fast clock', 5.0)\n",
      "('fast clock', 5.5)\n"
     ]
    }
   ],
   "source": [
    "# #SimPy - Basic Simulation Clock\n",
    "import simpy\n",
    "\n",
    "def clock(env, name, tick):\n",
    "    while True:\n",
    "        print(name, env.now)\n",
    "        # #Event Timeout\n",
    "        yield env.timeout(tick)\n",
    "        \n",
    "env = simpy.Environment()\n",
    "env.process(clock(env, 'fast clock', 0.5))\n",
    "env.process(clock(env, 'slow clock', 2))\n",
    "\n",
    "env.run(until=6)"
   ]
  },
  {
   "cell_type": "markdown",
   "metadata": {},
   "source": [
    "####  "
   ]
  },
  {
   "cell_type": "code",
   "execution_count": 54,
   "metadata": {
    "collapsed": true
   },
   "outputs": [],
   "source": [
    "# #Shared Resources in SimPy - Working with Queues & Processes\n",
    "# #Resource, Store, Containers"
   ]
  },
  {
   "cell_type": "code",
   "execution_count": 56,
   "metadata": {
    "collapsed": false
   },
   "outputs": [
    {
     "name": "stdout",
     "output_type": "stream",
     "text": [
      "('Attendee %s has gained knowledge %.2f and is %.2f hungry.', 0, 2, 10)\n",
      "('Attendee %s has gained knowledge %.2f and is %.2f hungry.', 1, 3, 8)\n",
      "('Attendee %s has gained knowledge %.2f and is %.2f hungry.', 2, 3, 7)\n",
      "('Attendee %s has gained knowledge %.2f and is %.2f hungry.', 3, 1, 8)\n",
      "('Attendee %s has gained knowledge %.2f and is %.2f hungry.', 4, 3, 6)\n",
      "('Attendee %s has gained knowledge %.2f and is %.2f hungry.', 0, 2, 5)\n",
      "('Attendee %s has gained knowledge %.2f and is %.2f hungry.', 1, 3, 1)\n",
      "('Attendee %s has gained knowledge %.2f and is %.2f hungry.', 2, 3, 0)\n",
      "('Attendee %s has gained knowledge %.2f and is %.2f hungry.', 3, 1, 0)\n",
      "('Attendee %s has gained knowledge %.2f and is %.2f hungry.', 4, 3, 1)\n",
      "('Attendee %s has gained knowledge %.2f and is %.2f hungry.', 0, 2, 11)\n",
      "('Attendee %s has gained knowledge %.2f and is %.2f hungry.', 1, 3, 11)\n",
      "('Attendee %s has gained knowledge %.2f and is %.2f hungry.', 2, 4, 7)\n",
      "('Attendee %s has gained knowledge %.2f and is %.2f hungry.', 3, 3, 5)\n",
      "('Attendee %s has gained knowledge %.2f and is %.2f hungry.', 4, 4, 11)\n",
      "('Attendee %s has gained knowledge %.2f and is %.2f hungry.', 0, 2, 6)\n",
      "('Attendee %s has gained knowledge %.2f and is %.2f hungry.', 1, 3, 7)\n",
      "('Attendee %s has gained knowledge %.2f and is %.2f hungry.', 2, 4, 0)\n",
      "('Attendee %s has gained knowledge %.2f and is %.2f hungry.', 3, 3, 0)\n",
      "('Attendee %s has gained knowledge %.2f and is %.2f hungry.', 4, 4, 6)\n"
     ]
    }
   ],
   "source": [
    "# #Simulating Conference Attendee\n",
    "\n",
    "# #Python Imports\n",
    "import simpy\n",
    "from random import randint\n",
    "\n",
    "# #Configuration\n",
    "val_talks_per_session = 3\n",
    "val_talk_time = 30\n",
    "val_break_time = 15\n",
    "\n",
    "\n",
    "# #Attendee initialized at a conference with knowledge = 0 (start of the conference) & hunger = 0\n",
    "# #As the sessions/talks progress, the attendees not only gain more knowledge, but also get more\n",
    "# #hungry.\n",
    "def attendee(env, name, knowledge=0, hunger=0):\n",
    "    while True:\n",
    "        for var_talk in range(val_talks_per_session):\n",
    "            knowledge += randint(0, 3)/(1 + hunger)\n",
    "            hunger += randint(1, 4)\n",
    "            \n",
    "            yield env.timeout(val_talk_time)\n",
    "        \n",
    "        # #At the end of each session\n",
    "        print(\"Attendee %s has gained knowledge %.2f and is %.2f hungry.\", name, knowledge, hunger)\n",
    "        \n",
    "        # #Take a break\n",
    "        food = randint(3, 12)\n",
    "        hunger -= min(food, hunger)\n",
    "        \n",
    "        yield env.timeout(val_break_time)\n",
    "        \n",
    "        print(\"Attendee %s has gained knowledge %.2f and is %.2f hungry.\", name, knowledge, hunger)\n",
    "        \n",
    "        \n",
    "# #Simulation\n",
    "env = simpy.Environment()\n",
    "for i in range(5):\n",
    "    env.process(attendee(env, i))\n",
    "    \n",
    "env.run(until=220)"
   ]
  }
 ],
 "metadata": {
  "kernelspec": {
   "display_name": "Python 2",
   "language": "python",
   "name": "python2"
  },
  "language_info": {
   "codemirror_mode": {
    "name": "ipython",
    "version": 2
   },
   "file_extension": ".py",
   "mimetype": "text/x-python",
   "name": "python",
   "nbconvert_exporter": "python",
   "pygments_lexer": "ipython2",
   "version": "2.7.9"
  }
 },
 "nbformat": 4,
 "nbformat_minor": 0
}
