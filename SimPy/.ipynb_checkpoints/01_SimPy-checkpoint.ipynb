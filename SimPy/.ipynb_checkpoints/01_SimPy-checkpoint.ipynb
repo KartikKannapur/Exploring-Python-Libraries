{
 "cells": [
  {
   "cell_type": "markdown",
   "metadata": {},
   "source": [
    "## SimPy"
   ]
  },
  {
   "cell_type": "markdown",
   "metadata": {},
   "source": [
    "### About\n",
    "\n",
    "* Discrete-Event Simulation in Python\n",
    "* Real-Time Simulation "
   ]
  },
  {
   "cell_type": "markdown",
   "metadata": {},
   "source": [
    "##  "
   ]
  },
  {
   "cell_type": "code",
   "execution_count": 7,
   "metadata": {
    "collapsed": false
   },
   "outputs": [
    {
     "data": {
      "text/plain": [
       "2"
      ]
     },
     "execution_count": 7,
     "metadata": {},
     "output_type": "execute_result"
    }
   ],
   "source": [
    "# #Generators in Python\n",
    "def gen(x):\n",
    "    yield x + 1\n",
    "\n",
    "g = gen(1)\n",
    "next(g)"
   ]
  },
  {
   "cell_type": "code",
   "execution_count": 19,
   "metadata": {
    "collapsed": false
   },
   "outputs": [
    {
     "name": "stdout",
     "output_type": "stream",
     "text": [
      "('fast clock', 0)\n",
      "('slow clock', 0)\n",
      "('fast clock', 0.5)\n",
      "('fast clock', 1.0)\n",
      "('fast clock', 1.5)\n",
      "('slow clock', 2)\n",
      "('fast clock', 2.0)\n",
      "('fast clock', 2.5)\n",
      "('fast clock', 3.0)\n",
      "('fast clock', 3.5)\n",
      "('slow clock', 4)\n",
      "('fast clock', 4.0)\n",
      "('fast clock', 4.5)\n",
      "('fast clock', 5.0)\n",
      "('fast clock', 5.5)\n"
     ]
    }
   ],
   "source": [
    "# #SimPy - Basic Simulation Clock\n",
    "import simpy\n",
    "\n",
    "def clock(env, name, tick):\n",
    "    while True:\n",
    "        print(name, env.now)\n",
    "        # #Event Timeout\n",
    "        yield env.timeout(tick)\n",
    "        \n",
    "env = simpy.Environment()\n",
    "env.process(clock(env, 'fast clock', 0.5))\n",
    "env.process(clock(env, 'slow clock', 2))\n",
    "\n",
    "env.run(until=6)"
   ]
  },
  {
   "cell_type": "markdown",
   "metadata": {},
   "source": [
    "####  "
   ]
  },
  {
   "cell_type": "code",
   "execution_count": 51,
   "metadata": {
    "collapsed": false
   },
   "outputs": [
    {
     "name": "stdout",
     "output_type": "stream",
     "text": [
      "Thank You for Listening to : 10\n",
      "Thank You for Listening to : 20\n",
      "Thank You for Listening to : 30\n",
      "Thank You for Listening to : 40\n",
      "Thank You for Listening to : 50\n",
      "Thank You for Listening to : 10.5\n",
      "Thank You for Listening to : 20.5\n",
      "Thank You for Listening to : 30.5\n",
      "Thank You for Listening to : 40.5\n",
      "Thank You for Listening to : 50.5\n",
      "Thank You for Listening to : 11.0\n",
      "Thank You for Listening to : 21.0\n",
      "Thank You for Listening to : 31.0\n",
      "Thank You for Listening to : 41.0\n",
      "Thank You for Listening to : 51.0\n",
      "Thank You for Listening to : 11.5\n",
      "Thank You for Listening to : 21.5\n",
      "Thank You for Listening to : 31.5\n",
      "Thank You for Listening to : 41.5\n",
      "Thank You for Listening to : 51.5\n",
      "Thank You for Listening to : 12.0\n",
      "Thank You for Listening to : 22.0\n",
      "Thank You for Listening to : 32.0\n",
      "Thank You for Listening to : 42.0\n",
      "Thank You for Listening to : 52.0\n",
      "Thank You for Listening to : 12.5\n",
      "Thank You for Listening to : 22.5\n",
      "Thank You for Listening to : 32.5\n",
      "Thank You for Listening to : 42.5\n",
      "Thank You for Listening to : 52.5\n",
      "Thank You for Listening to : 13.0\n",
      "Thank You for Listening to : 23.0\n",
      "Thank You for Listening to : 33.0\n",
      "Thank You for Listening to : 43.0\n",
      "Thank You for Listening to : 53.0\n",
      "Thank You for Listening to : 13.5\n",
      "Thank You for Listening to : 23.5\n",
      "Thank You for Listening to : 33.5\n",
      "Thank You for Listening to : 43.5\n",
      "Thank You for Listening to : 53.5\n",
      "Thank You for Listening to : 14.0\n",
      "Thank You for Listening to : 24.0\n",
      "Thank You for Listening to : 34.0\n",
      "Thank You for Listening to : 44.0\n",
      "Thank You for Listening to : 54.0\n",
      "Thank You for Listening to : 14.5\n",
      "Thank You for Listening to : 24.5\n",
      "Thank You for Listening to : 34.5\n",
      "Thank You for Listening to : 44.5\n",
      "Thank You for Listening to : 54.5\n"
     ]
    }
   ],
   "source": [
    "# #Simulating the talks in a conference\n",
    "import simpy\n",
    "val_number_of_speakers = 5\n",
    "\n",
    "def conf_speaker(env, speaker_number, time):\n",
    "    while True:\n",
    "        print \"Thank You for Listening to : \" + str(speaker_number) + str(env.now)\n",
    "        yield env.timeout(time)\n",
    "\n",
    "        \n",
    "env = simpy.Environment()\n",
    "for var_speaker in range(1, val_number_of_speakers+1):\n",
    "    env.process(conf_speaker(env, var_speaker, 0.5))\n",
    "    \n",
    "env.run(until=5)"
   ]
  },
  {
   "cell_type": "code",
   "execution_count": null,
   "metadata": {
    "collapsed": true
   },
   "outputs": [],
   "source": []
  }
 ],
 "metadata": {
  "kernelspec": {
   "display_name": "Python 2",
   "language": "python",
   "name": "python2"
  },
  "language_info": {
   "codemirror_mode": {
    "name": "ipython",
    "version": 2
   },
   "file_extension": ".py",
   "mimetype": "text/x-python",
   "name": "python",
   "nbconvert_exporter": "python",
   "pygments_lexer": "ipython2",
   "version": "2.7.9"
  }
 },
 "nbformat": 4,
 "nbformat_minor": 0
}
